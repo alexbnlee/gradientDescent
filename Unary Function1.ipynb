{
 "cells": [
  {
   "attachments": {},
   "cell_type": "markdown",
   "metadata": {},
   "source": [
    "函数为 $y=x^2$\n",
    "导数即为梯度 $y'=2x$"
   ]
  },
  {
   "cell_type": "code",
   "execution_count": 1,
   "metadata": {},
   "outputs": [
    {
     "name": "stdout",
     "output_type": "stream",
     "text": [
      "0.19999999999999996\n",
      "0.03999999999999998\n",
      "0.007999999999999993\n",
      "0.0015999999999999981\n",
      "0.00031999999999999954\n",
      "6.399999999999988e-05\n",
      "1.2799999999999972e-05\n",
      "2.559999999999994e-06\n",
      "5.119999999999987e-07\n"
     ]
    }
   ],
   "source": [
    "# f(x)=x^2, the first x is 1.\n",
    "\n",
    "facter = 0.4\n",
    "\n",
    "def gradientDescent(x):\n",
    "    return x - 0.4 * 2 * x\n",
    "\n",
    "r = list()\n",
    "r.append(1)\n",
    "\n",
    "for i in range(1, 10):\n",
    "    tmp = gradientDescent(r[i-1])\n",
    "    r.append(tmp)\n",
    "    print(tmp)"
   ]
  }
 ],
 "metadata": {
  "kernelspec": {
   "display_name": "Python 3",
   "language": "python",
   "name": "python3"
  },
  "language_info": {
   "codemirror_mode": {
    "name": "ipython",
    "version": 3
   },
   "file_extension": ".py",
   "mimetype": "text/x-python",
   "name": "python",
   "nbconvert_exporter": "python",
   "pygments_lexer": "ipython3",
   "version": "3.6.7"
  }
 },
 "nbformat": 4,
 "nbformat_minor": 2
}
