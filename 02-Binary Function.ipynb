{
 "cells": [
  {
   "cell_type": "markdown",
   "metadata": {},
   "source": [
    "### Implementation of Gradient Descent of Binary Fuction\n",
    "\n",
    "Function is $f(x, y)=x^2+y^2$.\n",
    "\n",
    "The gradient descent is $(2x, 2y)$.\n",
    "\n",
    "The first $(x, y)$ is $(x^0, y^0) = (1, 3)$ and the factor($\\alpha$) is 0.1\n",
    "\n",
    "$(x^1, y^1)=(x^0, y^0)-\\alpha (x^0, y^0)$\n",
    "\n",
    "..."
   ]
  },
  {
   "cell_type": "code",
   "execution_count": 1,
   "metadata": {},
   "outputs": [
    {
     "name": "stdout",
     "output_type": "stream",
     "text": [
      "x1 = 0.8\n",
      "y1 = 2.4\n",
      "\n",
      "x2 = 0.64\n",
      "y2 = 1.92\n",
      "\n",
      "x3 = 0.512\n",
      "y3 = 1.536\n",
      "\n",
      "x4 = 0.4096\n",
      "y4 = 1.2288000000000001\n",
      "\n",
      "x5 = 0.32768\n",
      "y5 = 0.9830400000000001\n",
      "\n",
      "x6 = 0.26214400000000004\n",
      "y6 = 0.7864320000000001\n",
      "\n",
      "x7 = 0.20971520000000005\n",
      "y7 = 0.6291456000000001\n",
      "\n",
      "x8 = 0.16777216000000003\n",
      "y8 = 0.5033164800000001\n",
      "\n",
      "x9 = 0.13421772800000004\n",
      "y9 = 0.40265318400000005\n",
      "\n"
     ]
    }
   ],
   "source": [
    "x = list()\n",
    "y = list()\n",
    "\n",
    "x0 = 1\n",
    "y0 = 3\n",
    "\n",
    "x.append(x0)\n",
    "y.append(y0)\n",
    "\n",
    "factor = 0.1\n",
    "\n",
    "def gradient_descent_x(x):\n",
    "\treturn x - factor * 2 * x\n",
    "\n",
    "def gradient_descent_y(y):\n",
    "\treturn y - factor * 2 * y\n",
    "\n",
    "for i in range(1, 10):\n",
    "\ttmp_x = gradient_descent_x(x[i-1])\n",
    "\ttmp_y = gradient_descent_y(y[i-1])\n",
    "\tx.append(tmp_x)\n",
    "\ty.append(tmp_y)\n",
    "\tprint(\"x\"+str(i).strip()+\" =\", x[i])\n",
    "\tprint(\"y\"+str(i).strip()+\" =\", y[i])\n",
    "\tprint(\"\")"
   ]
  }
 ],
 "metadata": {
  "kernelspec": {
   "display_name": "Python 3",
   "language": "python",
   "name": "python3"
  },
  "language_info": {
   "codemirror_mode": {
    "name": "ipython",
    "version": 3
   },
   "file_extension": ".py",
   "mimetype": "text/x-python",
   "name": "python",
   "nbconvert_exporter": "python",
   "pygments_lexer": "ipython3",
   "version": "3.7.0"
  }
 },
 "nbformat": 4,
 "nbformat_minor": 2
}
